{
  "nbformat": 4,
  "nbformat_minor": 0,
  "metadata": {
    "colab": {
      "name": "FCN-road-dataset.ipynb",
      "version": "0.3.2",
      "provenance": []
    },
    "kernelspec": {
      "name": "python3",
      "display_name": "Python 3"
    },
    "accelerator": "GPU"
  },
  "cells": [
    {
      "metadata": {
        "id": "b1YeRjm-JoJ5",
        "colab_type": "code",
        "colab": {}
      },
      "cell_type": "code",
      "source": [
        "import numpy as np\n",
        "import tensorflow as tf\n",
        "from keras.layers import Conv2D, Dense,InputLayer, Conv2DTranspose, Dropout, Activation, Input, Flatten, Add, Deconv2D, MaxPool2D\n",
        "from keras.applications.vgg16 import VGG16\n",
        "from keras.models import Model, Sequential\n",
        "from skimage.transform import resize\n",
        "import matplotlib.pyplot as plt\n",
        "from keras.datasets import fashion_mnist\n",
        "from keras.utils import to_categorical\n",
        "import os\n",
        "from glob import glob\n",
        "import re\n",
        "import random\n",
        "import scipy.misc\n",
        "\n",
        "\n",
        "%matplotlib inline"
      ],
      "execution_count": 0,
      "outputs": []
    },
    {
      "metadata": {
        "id": "qfGzCTXtPMJN",
        "colab_type": "code",
        "colab": {}
      },
      "cell_type": "code",
      "source": [
        "(x_train, y_train), (x_test, y_test) = fashion_mnist.load_data()\n",
        "x_train = x_train.reshape(x_train.shape[0], x_train.shape[1], x_train.shape[2], 1)\n",
        "x_test = x_test.reshape(x_test.shape[0], x_test.shape[1], x_test.shape[2], 1)\n",
        "\n",
        "x_train = x_train / 255.\n",
        "x_test = x_test / 255.\n",
        "\n",
        "y_train = to_categorical(y_train, num_classes=10)\n",
        "y_test = to_categorical(y_test, num_classes=10)"
      ],
      "execution_count": 0,
      "outputs": []
    },
    {
      "metadata": {
        "id": "ELwVcGvgRN6A",
        "colab_type": "code",
        "outputId": "9e0c90c2-ba8d-49aa-88c0-b1904fd944a1",
        "colab": {
          "base_uri": "https://localhost:8080/",
          "height": 34
        }
      },
      "cell_type": "code",
      "source": [
        "print(x_train.shape, y_train.shape, x_test.shape, y_test.shape)"
      ],
      "execution_count": 0,
      "outputs": [
        {
          "output_type": "stream",
          "text": [
            "(60000, 28, 28, 1) (60000, 10) (10000, 28, 28, 1) (10000, 10)\n"
          ],
          "name": "stdout"
        }
      ]
    },
    {
      "metadata": {
        "id": "MMCxthrqZCOd",
        "colab_type": "code",
        "outputId": "226e2c5e-f048-4cff-bee0-8bb72e73ae13",
        "colab": {
          "base_uri": "https://localhost:8080/",
          "height": 357
        }
      },
      "cell_type": "code",
      "source": [
        "cnn1 = Sequential()\n",
        "cnn1.add(InputLayer((x_train.shape[1], x_train.shape[2],x_train.shape[3])))\n",
        "cnn1.add(Conv2D(32, kernel_size=(3, 3), activation='relu'))\n",
        "cnn1.add(MaxPool2D(pool_size=(2, 2)))\n",
        "cnn1.add(Dropout(0.2))\n",
        "\n",
        "cnn1.add(Flatten())\n",
        "\n",
        "cnn1.add(Dense(128, activation='relu'))\n",
        "cnn1.add(Dense(10, activation='softmax'))\n",
        "\n",
        "cnn1.compile(loss='categorical_crossentropy',\n",
        "              optimizer='adam',\n",
        "              metrics=['accuracy'])\n",
        "cnn1.layers.remove\n",
        "print(cnn1.summary())"
      ],
      "execution_count": 0,
      "outputs": [
        {
          "output_type": "stream",
          "text": [
            "_________________________________________________________________\n",
            "Layer (type)                 Output Shape              Param #   \n",
            "=================================================================\n",
            "conv2d_93 (Conv2D)           (None, 26, 26, 32)        320       \n",
            "_________________________________________________________________\n",
            "max_pooling2d_15 (MaxPooling (None, 13, 13, 32)        0         \n",
            "_________________________________________________________________\n",
            "dropout_11 (Dropout)         (None, 13, 13, 32)        0         \n",
            "_________________________________________________________________\n",
            "flatten_14 (Flatten)         (None, 5408)              0         \n",
            "_________________________________________________________________\n",
            "dense_24 (Dense)             (None, 128)               692352    \n",
            "_________________________________________________________________\n",
            "dense_25 (Dense)             (None, 10)                1290      \n",
            "=================================================================\n",
            "Total params: 693,962\n",
            "Trainable params: 693,962\n",
            "Non-trainable params: 0\n",
            "_________________________________________________________________\n",
            "None\n"
          ],
          "name": "stdout"
        }
      ]
    },
    {
      "metadata": {
        "id": "yyhxQWwFbd_Z",
        "colab_type": "code",
        "outputId": "10946e0d-3d35-4c5a-b922-71f31c345625",
        "colab": {
          "base_uri": "https://localhost:8080/",
          "height": 187
        }
      },
      "cell_type": "code",
      "source": [
        "history = cnn1.fit(x_train, y_train, verbose=2, epochs=5)"
      ],
      "execution_count": 0,
      "outputs": [
        {
          "output_type": "stream",
          "text": [
            "Epoch 1/5\n",
            " - 14s - loss: 0.4005 - acc: 0.8577\n",
            "Epoch 2/5\n",
            " - 12s - loss: 0.2762 - acc: 0.8988\n",
            "Epoch 3/5\n",
            " - 12s - loss: 0.2377 - acc: 0.9125\n",
            "Epoch 4/5\n",
            " - 12s - loss: 0.2064 - acc: 0.9232\n",
            "Epoch 5/5\n",
            " - 12s - loss: 0.1805 - acc: 0.9330\n"
          ],
          "name": "stdout"
        }
      ]
    },
    {
      "metadata": {
        "id": "J9hwgcJjcXPl",
        "colab_type": "code",
        "outputId": "1c4fdf2d-d667-4a52-bf07-84b1c8415b15",
        "colab": {
          "base_uri": "https://localhost:8080/",
          "height": 51
        }
      },
      "cell_type": "code",
      "source": [
        "test_loss, test_acc = cnn1.evaluate(x_test, y_test)\n",
        "print('Test accuracy:', test_acc)"
      ],
      "execution_count": 0,
      "outputs": [
        {
          "output_type": "stream",
          "text": [
            "10000/10000 [==============================] - 1s 108us/step\n",
            "Test accuracy: 0.9138\n"
          ],
          "name": "stdout"
        }
      ]
    },
    {
      "metadata": {
        "id": "de3woslcRXLy",
        "colab_type": "code",
        "outputId": "3be563dd-2dd0-4119-cdb4-1051a2776b47",
        "colab": {
          "base_uri": "https://localhost:8080/",
          "height": 391
        }
      },
      "cell_type": "code",
      "source": [
        "X_input = Input((x_train.shape[1], x_train.shape[2], x_train.shape[3]))\n",
        "X = Conv2D(32,(3,3), activation='relu')(X_input)\n",
        "X = MaxPool2D(pool_size=(2, 2))(X)\n",
        "X = Dropout(0.2)(X)\n",
        "X = Flatten()(X)\n",
        "X = Dense(128, activation='relu')(X)\n",
        "X = Dense(10, activation='softmax')(X)\n",
        "\n",
        "model1 = Model(inputs = X_input, outputs = X)\n",
        "model1.compile(loss='categorical_crossentropy',\n",
        "              optimizer='adam',\n",
        "              metrics=['accuracy'])\n",
        "print(model1.summary())"
      ],
      "execution_count": 0,
      "outputs": [
        {
          "output_type": "stream",
          "text": [
            "_________________________________________________________________\n",
            "Layer (type)                 Output Shape              Param #   \n",
            "=================================================================\n",
            "input_22 (InputLayer)        (None, 28, 28, 1)         0         \n",
            "_________________________________________________________________\n",
            "conv2d_94 (Conv2D)           (None, 26, 26, 32)        320       \n",
            "_________________________________________________________________\n",
            "max_pooling2d_16 (MaxPooling (None, 13, 13, 32)        0         \n",
            "_________________________________________________________________\n",
            "dropout_12 (Dropout)         (None, 13, 13, 32)        0         \n",
            "_________________________________________________________________\n",
            "flatten_15 (Flatten)         (None, 5408)              0         \n",
            "_________________________________________________________________\n",
            "dense_26 (Dense)             (None, 128)               692352    \n",
            "_________________________________________________________________\n",
            "dense_27 (Dense)             (None, 10)                1290      \n",
            "=================================================================\n",
            "Total params: 693,962\n",
            "Trainable params: 693,962\n",
            "Non-trainable params: 0\n",
            "_________________________________________________________________\n",
            "None\n"
          ],
          "name": "stdout"
        }
      ]
    },
    {
      "metadata": {
        "id": "mGYSbmPAcrCu",
        "colab_type": "code",
        "colab": {}
      },
      "cell_type": "code",
      "source": [
        "l1 = cnn1.get_layer(name='conv2d_93')\n",
        "l2 = cnn1.get_layer(name='dense_24')\n",
        "l3 = cnn1.get_layer(name='dense_25')"
      ],
      "execution_count": 0,
      "outputs": []
    },
    {
      "metadata": {
        "id": "FcRsWDusc-PB",
        "colab_type": "code",
        "colab": {}
      },
      "cell_type": "code",
      "source": [
        "model1.get_layer(name='conv2d_23').set_weights(l1.get_weights())\n",
        "model1.get_layer(name='dense_18').set_weights(l2.get_weights())\n",
        "model1.get_layer(name='dense_19').set_weights(l3.get_weights())"
      ],
      "execution_count": 0,
      "outputs": []
    },
    {
      "metadata": {
        "id": "kKZ0v_vUdfT4",
        "colab_type": "code",
        "outputId": "4b218ccb-1c0b-4c9d-b750-a57912b661fa",
        "colab": {
          "base_uri": "https://localhost:8080/",
          "height": 51
        }
      },
      "cell_type": "code",
      "source": [
        "test_loss, test_acc = model1.evaluate(x_test, y_test)\n",
        "print('Test accuracy:', test_acc)"
      ],
      "execution_count": 0,
      "outputs": [
        {
          "output_type": "stream",
          "text": [
            "10000/10000 [==============================] - 1s 72us/step\n",
            "Test accuracy: 0.9084\n"
          ],
          "name": "stdout"
        }
      ]
    },
    {
      "metadata": {
        "id": "4vARhQgikCfL",
        "colab_type": "code",
        "colab": {}
      },
      "cell_type": "code",
      "source": [
        "vgg_base_model = VGG16()"
      ],
      "execution_count": 0,
      "outputs": []
    },
    {
      "metadata": {
        "id": "gSr9_jVGkIFj",
        "colab_type": "code",
        "outputId": "65c4bbaf-d905-4ca0-c0cc-65e10d51e5db",
        "colab": {
          "base_uri": "https://localhost:8080/",
          "height": 918
        }
      },
      "cell_type": "code",
      "source": [
        "vgg_base_model.summary()\n",
        "for layer in vgg_base_model.layers:\n",
        "    layer.trainable=False"
      ],
      "execution_count": 0,
      "outputs": [
        {
          "output_type": "stream",
          "text": [
            "_________________________________________________________________\n",
            "Layer (type)                 Output Shape              Param #   \n",
            "=================================================================\n",
            "input_23 (InputLayer)        (None, 224, 224, 3)       0         \n",
            "_________________________________________________________________\n",
            "block1_conv1 (Conv2D)        (None, 224, 224, 64)      1792      \n",
            "_________________________________________________________________\n",
            "block1_conv2 (Conv2D)        (None, 224, 224, 64)      36928     \n",
            "_________________________________________________________________\n",
            "block1_pool (MaxPooling2D)   (None, 112, 112, 64)      0         \n",
            "_________________________________________________________________\n",
            "block2_conv1 (Conv2D)        (None, 112, 112, 128)     73856     \n",
            "_________________________________________________________________\n",
            "block2_conv2 (Conv2D)        (None, 112, 112, 128)     147584    \n",
            "_________________________________________________________________\n",
            "block2_pool (MaxPooling2D)   (None, 56, 56, 128)       0         \n",
            "_________________________________________________________________\n",
            "block3_conv1 (Conv2D)        (None, 56, 56, 256)       295168    \n",
            "_________________________________________________________________\n",
            "block3_conv2 (Conv2D)        (None, 56, 56, 256)       590080    \n",
            "_________________________________________________________________\n",
            "block3_conv3 (Conv2D)        (None, 56, 56, 256)       590080    \n",
            "_________________________________________________________________\n",
            "block3_pool (MaxPooling2D)   (None, 28, 28, 256)       0         \n",
            "_________________________________________________________________\n",
            "block4_conv1 (Conv2D)        (None, 28, 28, 512)       1180160   \n",
            "_________________________________________________________________\n",
            "block4_conv2 (Conv2D)        (None, 28, 28, 512)       2359808   \n",
            "_________________________________________________________________\n",
            "block4_conv3 (Conv2D)        (None, 28, 28, 512)       2359808   \n",
            "_________________________________________________________________\n",
            "block4_pool (MaxPooling2D)   (None, 14, 14, 512)       0         \n",
            "_________________________________________________________________\n",
            "block5_conv1 (Conv2D)        (None, 14, 14, 512)       2359808   \n",
            "_________________________________________________________________\n",
            "block5_conv2 (Conv2D)        (None, 14, 14, 512)       2359808   \n",
            "_________________________________________________________________\n",
            "block5_conv3 (Conv2D)        (None, 14, 14, 512)       2359808   \n",
            "_________________________________________________________________\n",
            "block5_pool (MaxPooling2D)   (None, 7, 7, 512)         0         \n",
            "_________________________________________________________________\n",
            "flatten (Flatten)            (None, 25088)             0         \n",
            "_________________________________________________________________\n",
            "fc1 (Dense)                  (None, 4096)              102764544 \n",
            "_________________________________________________________________\n",
            "fc2 (Dense)                  (None, 4096)              16781312  \n",
            "_________________________________________________________________\n",
            "predictions (Dense)          (None, 1000)              4097000   \n",
            "=================================================================\n",
            "Total params: 138,357,544\n",
            "Trainable params: 138,357,544\n",
            "Non-trainable params: 0\n",
            "_________________________________________________________________\n"
          ],
          "name": "stdout"
        }
      ]
    },
    {
      "metadata": {
        "id": "7M8lYrZnkgof",
        "colab_type": "code",
        "outputId": "7a39e75b-b1e0-4289-c753-8e6db7d1e027",
        "colab": {
          "base_uri": "https://localhost:8080/",
          "height": 170
        }
      },
      "cell_type": "code",
      "source": [
        " \n",
        "skip1 = vgg_base_model.get_layer('block4_pool').output\n",
        "print(\"skip1 shape \", skip1.shape)\n",
        "skip2 = vgg_base_model.get_layer('block3_pool').output\n",
        "\n",
        "X = vgg_base_model.get_layer('block5_pool').output\n",
        "# X = Conv2D(4096, kernel_size=(4,4), strides=(4,4))(X)\n",
        "X = Conv2D(2, kernel_size=(1,1), strides=(1,1), padding='same')(X)\n",
        "# X = Conv2D(4096, kernel_size=(1,1), padding='same')(X)\n",
        "# X = Conv2D(2, kernel_size=(1,1), padding='same')(X)\n",
        "print(X.shape)\n",
        "X = Conv2DTranspose(2, kernel_size=(4,4), strides=(2,2), padding='same')(X)\n",
        "# shape should be as skip1\n",
        "print(X.shape)\n",
        "skip1 = Conv2D(2,kernel_size=(1,1), strides=(1,1), activation=None)(skip1)\n",
        "print(\"skip1 shape \", skip1.shape)\n",
        "X = Add()([X, skip1])\n",
        "print(X.shape)\n",
        "\n",
        "X = Conv2DTranspose(2, kernel_size=(4,4), strides=(2,2),\n",
        "                   padding='same')(X)\n",
        "\n",
        "print(X.shape)\n",
        "skip2 = Conv2D(2,kernel_size=(1,1), strides=(1,1), activation=None)(skip2)\n",
        "print(\"skip2 shape \", skip2.shape)\n",
        "X = Add()([X, skip2])\n",
        "print(X.shape)\n",
        "X = Conv2DTranspose(2, kernel_size=(4,4), strides=(2,2),\n",
        "                   padding='same')(X)\n",
        "X = Conv2DTranspose(2, kernel_size=(4,4), strides=(2,2),\n",
        "                   padding='same')(X)\n",
        "X = Conv2DTranspose(2, kernel_size=(4,4), strides=(2,2),\n",
        "                   padding='same')(X)\n",
        "X = Activation('softmax')(X)\n",
        "print(X.shape)\n",
        "\n",
        "new_model = Model(inputs = vgg_base_model.input, outputs=X, name='fcn8')"
      ],
      "execution_count": 0,
      "outputs": [
        {
          "output_type": "stream",
          "text": [
            "skip1 shape  (?, 14, 14, 512)\n",
            "(?, 7, 7, 2)\n",
            "(?, ?, ?, 2)\n",
            "skip1 shape  (?, 14, 14, 2)\n",
            "(?, 14, 14, 2)\n",
            "(?, ?, ?, 2)\n",
            "skip2 shape  (?, 28, 28, 2)\n",
            "(?, 28, 28, 2)\n",
            "(?, ?, ?, 2)\n"
          ],
          "name": "stdout"
        }
      ]
    },
    {
      "metadata": {
        "id": "oxinHW1-xj0X",
        "colab_type": "code",
        "outputId": "0a8763c8-a195-493f-f12e-baf35a9912d5",
        "colab": {
          "base_uri": "https://localhost:8080/",
          "height": 1210
        }
      },
      "cell_type": "code",
      "source": [
        "new_model.summary()"
      ],
      "execution_count": 0,
      "outputs": [
        {
          "output_type": "stream",
          "text": [
            "__________________________________________________________________________________________________\n",
            "Layer (type)                    Output Shape         Param #     Connected to                     \n",
            "==================================================================================================\n",
            "input_23 (InputLayer)           (None, 224, 224, 3)  0                                            \n",
            "__________________________________________________________________________________________________\n",
            "block1_conv1 (Conv2D)           (None, 224, 224, 64) 1792        input_23[0][0]                   \n",
            "__________________________________________________________________________________________________\n",
            "block1_conv2 (Conv2D)           (None, 224, 224, 64) 36928       block1_conv1[0][0]               \n",
            "__________________________________________________________________________________________________\n",
            "block1_pool (MaxPooling2D)      (None, 112, 112, 64) 0           block1_conv2[0][0]               \n",
            "__________________________________________________________________________________________________\n",
            "block2_conv1 (Conv2D)           (None, 112, 112, 128 73856       block1_pool[0][0]                \n",
            "__________________________________________________________________________________________________\n",
            "block2_conv2 (Conv2D)           (None, 112, 112, 128 147584      block2_conv1[0][0]               \n",
            "__________________________________________________________________________________________________\n",
            "block2_pool (MaxPooling2D)      (None, 56, 56, 128)  0           block2_conv2[0][0]               \n",
            "__________________________________________________________________________________________________\n",
            "block3_conv1 (Conv2D)           (None, 56, 56, 256)  295168      block2_pool[0][0]                \n",
            "__________________________________________________________________________________________________\n",
            "block3_conv2 (Conv2D)           (None, 56, 56, 256)  590080      block3_conv1[0][0]               \n",
            "__________________________________________________________________________________________________\n",
            "block3_conv3 (Conv2D)           (None, 56, 56, 256)  590080      block3_conv2[0][0]               \n",
            "__________________________________________________________________________________________________\n",
            "block3_pool (MaxPooling2D)      (None, 28, 28, 256)  0           block3_conv3[0][0]               \n",
            "__________________________________________________________________________________________________\n",
            "block4_conv1 (Conv2D)           (None, 28, 28, 512)  1180160     block3_pool[0][0]                \n",
            "__________________________________________________________________________________________________\n",
            "block4_conv2 (Conv2D)           (None, 28, 28, 512)  2359808     block4_conv1[0][0]               \n",
            "__________________________________________________________________________________________________\n",
            "block4_conv3 (Conv2D)           (None, 28, 28, 512)  2359808     block4_conv2[0][0]               \n",
            "__________________________________________________________________________________________________\n",
            "block4_pool (MaxPooling2D)      (None, 14, 14, 512)  0           block4_conv3[0][0]               \n",
            "__________________________________________________________________________________________________\n",
            "block5_conv1 (Conv2D)           (None, 14, 14, 512)  2359808     block4_pool[0][0]                \n",
            "__________________________________________________________________________________________________\n",
            "block5_conv2 (Conv2D)           (None, 14, 14, 512)  2359808     block5_conv1[0][0]               \n",
            "__________________________________________________________________________________________________\n",
            "block5_conv3 (Conv2D)           (None, 14, 14, 512)  2359808     block5_conv2[0][0]               \n",
            "__________________________________________________________________________________________________\n",
            "block5_pool (MaxPooling2D)      (None, 7, 7, 512)    0           block5_conv3[0][0]               \n",
            "__________________________________________________________________________________________________\n",
            "conv2d_95 (Conv2D)              (None, 7, 7, 2)      1026        block5_pool[0][0]                \n",
            "__________________________________________________________________________________________________\n",
            "conv2d_transpose_102 (Conv2DTra (None, 14, 14, 2)    66          conv2d_95[0][0]                  \n",
            "__________________________________________________________________________________________________\n",
            "conv2d_96 (Conv2D)              (None, 14, 14, 2)    1026        block4_pool[0][0]                \n",
            "__________________________________________________________________________________________________\n",
            "add_16 (Add)                    (None, 14, 14, 2)    0           conv2d_transpose_102[0][0]       \n",
            "                                                                 conv2d_96[0][0]                  \n",
            "__________________________________________________________________________________________________\n",
            "conv2d_transpose_103 (Conv2DTra (None, 28, 28, 2)    66          add_16[0][0]                     \n",
            "__________________________________________________________________________________________________\n",
            "conv2d_97 (Conv2D)              (None, 28, 28, 2)    514         block3_pool[0][0]                \n",
            "__________________________________________________________________________________________________\n",
            "add_17 (Add)                    (None, 28, 28, 2)    0           conv2d_transpose_103[0][0]       \n",
            "                                                                 conv2d_97[0][0]                  \n",
            "__________________________________________________________________________________________________\n",
            "conv2d_transpose_104 (Conv2DTra (None, 56, 56, 2)    66          add_17[0][0]                     \n",
            "__________________________________________________________________________________________________\n",
            "conv2d_transpose_105 (Conv2DTra (None, 112, 112, 2)  66          conv2d_transpose_104[0][0]       \n",
            "__________________________________________________________________________________________________\n",
            "conv2d_transpose_106 (Conv2DTra (None, 224, 224, 2)  66          conv2d_transpose_105[0][0]       \n",
            "__________________________________________________________________________________________________\n",
            "activation_18 (Activation)      (None, 224, 224, 2)  0           conv2d_transpose_106[0][0]       \n",
            "==================================================================================================\n",
            "Total params: 14,717,584\n",
            "Trainable params: 2,896\n",
            "Non-trainable params: 14,714,688\n",
            "__________________________________________________________________________________________________\n"
          ],
          "name": "stdout"
        }
      ]
    },
    {
      "metadata": {
        "id": "KNhqAS1sr1ds",
        "colab_type": "code",
        "outputId": "40f13787-6909-46e4-8c97-1179a30e563f",
        "colab": {
          "base_uri": "https://localhost:8080/",
          "height": 34
        }
      },
      "cell_type": "code",
      "source": [
        "rows = 7\n",
        "cols= 7\n",
        "strides = 2\n",
        "kernel_size=4\n",
        "output_padding = 0\n",
        "padding=1\n",
        "new_rows = ((rows - 1) * strides + kernel_size\n",
        "            - 2 * padding + output_padding)\n",
        "new_cols = ((cols - 1) * strides + kernel_size\n",
        "            - 2 * padding + output_padding)\n",
        "print(new_rows, new_cols)"
      ],
      "execution_count": 0,
      "outputs": [
        {
          "output_type": "stream",
          "text": [
            "14 14\n"
          ],
          "name": "stdout"
        }
      ]
    },
    {
      "metadata": {
        "id": "iRg_ay25yQis",
        "colab_type": "code",
        "colab": {}
      },
      "cell_type": "code",
      "source": [
        "new_model.compile(loss='categorical_crossentropy',\n",
        "              optimizer='adam',\n",
        "              metrics=['accuracy'])"
      ],
      "execution_count": 0,
      "outputs": []
    },
    {
      "metadata": {
        "id": "9osDOHG6ydgo",
        "colab_type": "code",
        "colab": {}
      },
      "cell_type": "code",
      "source": [
        "!unzip data_road.zip"
      ],
      "execution_count": 0,
      "outputs": []
    },
    {
      "metadata": {
        "id": "fYsK-leWQlMQ",
        "colab_type": "code",
        "colab": {}
      },
      "cell_type": "code",
      "source": [
        "def bc_img(img, s=1.0, m=0.0):\n",
        "    img = img.astype(np.int)\n",
        "    img = img * s + m\n",
        "    img[img > 255] = 255\n",
        "    img[img < 0] = 0\n",
        "    img = img.astype(np.uint8)\n",
        "    return img\n",
        "\n",
        "def process_gt_image(gt_image):\n",
        "    background_color = np.array([255, 0, 0])\n",
        "\n",
        "    gt_bg = np.all(gt_image == background_color, axis=2)\n",
        "    gt_bg = gt_bg.reshape(gt_bg.shape[0], gt_bg.shape[1], 1)\n",
        "\n",
        "    gt_image = np.concatenate((gt_bg, np.invert(gt_bg)), axis=2)\n",
        "    return gt_image\n",
        "\n",
        "def batch_generator(image_paths, label_paths, batch_size):\n",
        "    random.shuffle(image_paths)\n",
        "    batch_size=1\n",
        "    for batch_i in range(0, len(image_paths), batch_size):\n",
        "        images = []\n",
        "        gt_images = []\n",
        "        for image_file in image_paths[batch_i:batch_i + batch_size]:\n",
        "\n",
        "            gt_image_file = label_paths[os.path.basename(image_file)]\n",
        "            print(image_file, gt_image_file)\n",
        "\n",
        "            image = scipy.misc.imread(image_file)\n",
        "            gt_image = scipy.misc.imread(gt_image_file)\n",
        "\n",
        "            image = scipy.misc.imresize(image, image_shape)\n",
        "            gt_image = scipy.misc.imresize(gt_image, image_shape)\n",
        "\n",
        "            contrast = random.uniform(0.85, 1.15)  # Contrast augmentation\n",
        "            bright = random.randint(-45, 30)  # Brightness augmentation\n",
        "    #         image = bc_img(image, contrast, bright)\n",
        "\n",
        "            gt_image = process_gt_image(gt_image)\n",
        "            images.append(image)\n",
        "            gt_images.append(gt_image)\n",
        "\n",
        "            yield np.array(images), np.array(gt_images)"
      ],
      "execution_count": 0,
      "outputs": []
    },
    {
      "metadata": {
        "id": "Op0Mwr4iNTDx",
        "colab_type": "code",
        "colab": {}
      },
      "cell_type": "code",
      "source": [
        "data_folder='data_road/training/'\n",
        "image_paths = glob(os.path.join(data_folder, 'image_2', '*.png'))\n",
        "label_paths = {\n",
        "    re.sub(r'_(lane|road)_', '_', os.path.basename(path)): path\n",
        "    for path in glob(os.path.join(data_folder, 'gt_image_2', '*_road_*.png'))}\n",
        "\n",
        "batch_size=2\n",
        "\n",
        "image_shape = (224,224,3)\n",
        "\n",
        "new_model.fit_generator(batch_generator(image_paths, label_paths, batch_size),\n",
        "                        100,\n",
        "                    epochs=5,\n",
        "                    max_q_size=1,\n",
        "                    verbose=1)"
      ],
      "execution_count": 0,
      "outputs": []
    },
    {
      "metadata": {
        "id": "zWHIjfmpNBea",
        "colab_type": "code",
        "colab": {}
      },
      "cell_type": "code",
      "source": [
        "def gen_batch_function(data_folder, image_shape):\n",
        "    \"\"\"\n",
        "    Generate function to create batches of training data\n",
        "    :param data_folder: Path to folder that contains all the datasets\n",
        "    :param image_shape: Tuple - Shape of image\n",
        "    :return:\n",
        "    \"\"\"\n",
        "    def get_batches_fn(batch_size):\n",
        "        \"\"\"\n",
        "        Create batches of training data\n",
        "        :param batch_size: Batch Size\n",
        "        :return: Batches of training data\n",
        "        \"\"\"\n",
        "        image_paths = glob(os.path.join(data_folder, 'image_2', '*.png'))\n",
        "        label_paths = {\n",
        "            re.sub(r'_(lane|road)_', '_', os.path.basename(path)): path\n",
        "            for path in glob(os.path.join(data_folder, 'gt_image_2', '*_road_*.png'))}\n",
        "\n",
        "        random.shuffle(image_paths)\n",
        "        for batch_i in range(0, len(image_paths), batch_size):\n",
        "            images = []\n",
        "            gt_images = []\n",
        "            for image_file in image_paths[batch_i:batch_i + batch_size]:\n",
        "                gt_image_file = label_paths[os.path.basename(image_file)]\n",
        "\n",
        "                image = scipy.misc.imread(image_file)\n",
        "                gt_image = scipy.misc.imread(gt_image_file)\n",
        "\n",
        "                image2, gt_image2 = crop_image(image, gt_image)  # Random crop augmentation\n",
        "                image3, gt_image3 = flip_image(image, gt_image)\n",
        "\n",
        "                image = scipy.misc.imresize(image, image_shape)\n",
        "                gt_image = scipy.misc.imresize(gt_image, image_shape)\n",
        "\n",
        "                image2 = scipy.misc.imresize(image2, image_shape)\n",
        "                gt_image2 = scipy.misc.imresize(gt_image2, image_shape)\n",
        "\n",
        "                image3 = scipy.misc.imresize(image3, image_shape)\n",
        "                gt_image3 = scipy.misc.imresize(gt_image3, image_shape)\n",
        "\n",
        "                # image = cv2.imread(image_file)\n",
        "                # gt_image = cv2.imread(gt_image_file)\n",
        "\n",
        "                # image = cv2.resize(image, (image_shape[1], image_shape[0]))\n",
        "                # gt_image = cv2.resize(gt_image, (image_shape[1], image_shape[0]))\n",
        "\n",
        "                contrast = random.uniform(0.85, 1.15)  # Contrast augmentation\n",
        "                bright = random.randint(-45, 30)  # Brightness augmentation\n",
        "                image = bc_img(image, contrast, bright)\n",
        "\n",
        "                gt_image = process_gt_image(gt_image)\n",
        "                gt_image2 = process_gt_image(gt_image2)\n",
        "                gt_image3 = process_gt_image(gt_image3)\n",
        "\n",
        "                images.append(image)\n",
        "                gt_images.append(gt_image)\n",
        "\n",
        "                images.append(image2)\n",
        "                gt_images.append(gt_image2)\n",
        "\n",
        "                images.append(image3)\n",
        "                gt_images.append(gt_image3)\n",
        "\n",
        "            yield np.array(images), np.array(gt_images)\n",
        "\n",
        "    return get_batches_fn"
      ],
      "execution_count": 0,
      "outputs": []
    },
    {
      "metadata": {
        "id": "4G6h_OFRS2K8",
        "colab_type": "code",
        "outputId": "b1d07b26-845e-4c63-dc2a-b0fb63eade7b",
        "colab": {
          "base_uri": "https://localhost:8080/",
          "height": 105
        }
      },
      "cell_type": "code",
      "source": [
        "sample_img = plt.imread('data_road/testing/image_2/um_000010.png')\n",
        "sample_img = scipy.misc.imresize(sample_img, image_shape)\n",
        "\n",
        "yhat = new_model.predict(np.expand_dims(sample_img,axis=0))"
      ],
      "execution_count": 0,
      "outputs": [
        {
          "output_type": "stream",
          "text": [
            "/usr/local/lib/python3.6/dist-packages/ipykernel_launcher.py:2: DeprecationWarning: `imresize` is deprecated!\n",
            "`imresize` is deprecated in SciPy 1.0.0, and will be removed in 1.2.0.\n",
            "Use ``skimage.transform.resize`` instead.\n",
            "  \n"
          ],
          "name": "stderr"
        }
      ]
    },
    {
      "metadata": {
        "id": "bRd-k1tZTWe9",
        "colab_type": "code",
        "outputId": "f5afca4b-809e-4d21-805a-34966168e20d",
        "colab": {
          "base_uri": "https://localhost:8080/",
          "height": 286
        }
      },
      "cell_type": "code",
      "source": [
        "plt.imshow(sample_img)"
      ],
      "execution_count": 0,
      "outputs": [
        {
          "output_type": "execute_result",
          "data": {
            "text/plain": [
              "<matplotlib.image.AxesImage at 0x7f353cd149e8>"
            ]
          },
          "metadata": {
            "tags": []
          },
          "execution_count": 176
        },
        {
          "output_type": "display_data",
          "data": {
            "image/png": "[encoded data removed]",
            "text/plain": [
              "<Figure size 432x288 with 1 Axes>"
            ]
          },
          "metadata": {
            "tags": []
          }
        }
      ]
    },
    {
      "metadata": {
        "id": "jdnyH4lrTbo0",
        "colab_type": "code",
        "outputId": "d82556fd-e865-4c70-8c3d-e523eb90e3e1",
        "colab": {
          "base_uri": "https://localhost:8080/",
          "height": 303
        }
      },
      "cell_type": "code",
      "source": [
        "print(yhat.shape)\n",
        "plt.imshow(yhat[0,:,:,0])"
      ],
      "execution_count": 0,
      "outputs": [
        {
          "output_type": "stream",
          "text": [
            "(1, 224, 224, 2)\n"
          ],
          "name": "stdout"
        },
        {
          "output_type": "execute_result",
          "data": {
            "text/plain": [
              "<matplotlib.image.AxesImage at 0x7f353f6abf28>"
            ]
          },
          "metadata": {
            "tags": []
          },
          "execution_count": 181
        },
        {
          "output_type": "display_data",
          "data": {
            "image/png": "[encoded data removed]",
            "text/plain": [
              "<Figure size 432x288 with 1 Axes>"
            ]
          },
          "metadata": {
            "tags": []
          }
        }
      ]
    }
  ]
}